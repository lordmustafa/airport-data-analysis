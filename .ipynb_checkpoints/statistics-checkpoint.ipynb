{
 "cells": [
  {
   "cell_type": "code",
   "execution_count": 1,
   "id": "5958267a",
   "metadata": {},
   "outputs": [],
   "source": [
    "import pandas as pd\n",
    "import numpy as np\n",
    "import matplotlib.pyplot as plt"
   ]
  },
  {
   "cell_type": "code",
   "execution_count": 2,
   "id": "c579a1b7",
   "metadata": {},
   "outputs": [],
   "source": [
    "df = pd.read_excel('Customer Satisfaction - Airlines Case Study.xlsx')"
   ]
  },
  {
   "cell_type": "code",
   "execution_count": 3,
   "id": "6eb7ca3e",
   "metadata": {},
   "outputs": [],
   "source": [
    "columns = list(df.columns)"
   ]
  },
  {
   "cell_type": "markdown",
   "id": "aa3e12a5",
   "metadata": {},
   "source": [
    "## 1- Finding the best 3 services & the bad 3 services"
   ]
  },
  {
   "cell_type": "code",
   "execution_count": 4,
   "id": "d9d06069",
   "metadata": {},
   "outputs": [],
   "source": [
    "services_names = columns[7:len(columns)-2]\n",
    "characteristics_names= columns[:7]"
   ]
  },
  {
   "cell_type": "code",
   "execution_count": 5,
   "id": "44eb4ccb",
   "metadata": {},
   "outputs": [],
   "source": [
    "services_df = df[services_names]\n",
    "characteristics_df = df[characteristics_names]\n",
    "satisfacation_df = df[columns[0]]"
   ]
  },
  {
   "cell_type": "code",
   "execution_count": 6,
   "id": "11d49347",
   "metadata": {},
   "outputs": [],
   "source": [
    "# making a list of series that contains the services and satisfaction levels\n",
    "li_services = [services_df[services_names[i]] for i in range(len(services_names))]\n",
    "# this list takes the services list and count the repetitions for each satisfaction level\n",
    "satis_count = [li_services[i].value_counts() for i in range(len(li_services))]\n",
    "\n",
    "# goods take satisfication level from 4 to 5\n",
    "# acceptables take satisfication level 3\n",
    "# bads take satisfication level from 1 to 2\n",
    "# not applicable takes satisfication level 0\n",
    "\n",
    "goods = [count.loc[[5,4]] for count in satis_count]\n",
    "acceptables = [count.loc[3] for count in satis_count]\n",
    "bads = [count.loc[[2,1]] for count in satis_count]\n",
    "not_appicables = [count.iloc[-1] for count in satis_count]\n",
    "\n",
    "# sum of the goods in the level 4 & 5\n",
    "# sum of the bads in the level 1 & 2\n",
    "goods_count = [count.loc[[5,4]].sum() for count in goods]\n",
    "bads_count = [count.loc[[2,1]].sum() for count in bads]\n",
    "# avgs of the goods, acceptables, 3-5, bads and not applicables\n",
    "goods_avg = [(goods_count[i]*100/len(df)).round(2) for i in range(len(goods_count))]\n",
    "acceptables_avg = [(acceptables[i]*100/len(df)).round(2) for i in range(len(acceptables))]\n",
    "# 3-5 means the good avgs + acceptable avgs\n",
    "_3_5 = [(goods_avg[i]+acceptables_avg[i]).round(2) for i in range(len(goods_avg))]\n",
    "bads_avg = [(bads_count[i]*100/len(df)).round(2) for i in range(len(bads_count))]\n",
    "not_app_avg = [(not_appicables[i]*100/len(df)).round(2) for i in range(len(not_appicables))]\n"
   ]
  },
  {
   "cell_type": "code",
   "execution_count": 7,
   "id": "5b8da936",
   "metadata": {},
   "outputs": [
    {
     "data": {
      "text/html": [
       "<div>\n",
       "<style scoped>\n",
       "    .dataframe tbody tr th:only-of-type {\n",
       "        vertical-align: middle;\n",
       "    }\n",
       "\n",
       "    .dataframe tbody tr th {\n",
       "        vertical-align: top;\n",
       "    }\n",
       "\n",
       "    .dataframe thead th {\n",
       "        text-align: right;\n",
       "    }\n",
       "</style>\n",
       "<table border=\"1\" class=\"dataframe\">\n",
       "  <thead>\n",
       "    <tr style=\"text-align: right;\">\n",
       "      <th></th>\n",
       "      <th>good counts</th>\n",
       "      <th>good avgs</th>\n",
       "      <th>acceptable counts</th>\n",
       "      <th>acceptable avgs</th>\n",
       "      <th>3-5</th>\n",
       "      <th>bad counts</th>\n",
       "      <th>bad avgs</th>\n",
       "      <th>not applicable</th>\n",
       "      <th>not applicable avgs</th>\n",
       "    </tr>\n",
       "  </thead>\n",
       "  <tbody>\n",
       "    <tr>\n",
       "      <th>Cleanliness</th>\n",
       "      <td>84711</td>\n",
       "      <td>65.22</td>\n",
       "      <td>23984</td>\n",
       "      <td>18.47</td>\n",
       "      <td>83.69</td>\n",
       "      <td>21180</td>\n",
       "      <td>16.31</td>\n",
       "      <td>5</td>\n",
       "      <td>0.00</td>\n",
       "    </tr>\n",
       "    <tr>\n",
       "      <th>Baggage handling</th>\n",
       "      <td>83988</td>\n",
       "      <td>64.67</td>\n",
       "      <td>24485</td>\n",
       "      <td>18.85</td>\n",
       "      <td>83.52</td>\n",
       "      <td>21407</td>\n",
       "      <td>16.48</td>\n",
       "      <td>7975</td>\n",
       "      <td>6.14</td>\n",
       "    </tr>\n",
       "    <tr>\n",
       "      <th>On-board service</th>\n",
       "      <td>72399</td>\n",
       "      <td>55.74</td>\n",
       "      <td>27037</td>\n",
       "      <td>20.82</td>\n",
       "      <td>76.56</td>\n",
       "      <td>30439</td>\n",
       "      <td>23.44</td>\n",
       "      <td>5</td>\n",
       "      <td>0.00</td>\n",
       "    </tr>\n",
       "    <tr>\n",
       "      <th>Checkin service</th>\n",
       "      <td>63486</td>\n",
       "      <td>48.88</td>\n",
       "      <td>35538</td>\n",
       "      <td>27.36</td>\n",
       "      <td>76.24</td>\n",
       "      <td>30855</td>\n",
       "      <td>23.76</td>\n",
       "      <td>1</td>\n",
       "      <td>0.00</td>\n",
       "    </tr>\n",
       "    <tr>\n",
       "      <th>Online support</th>\n",
       "      <td>77073</td>\n",
       "      <td>59.34</td>\n",
       "      <td>21609</td>\n",
       "      <td>16.64</td>\n",
       "      <td>75.98</td>\n",
       "      <td>31197</td>\n",
       "      <td>24.02</td>\n",
       "      <td>1</td>\n",
       "      <td>0.00</td>\n",
       "    </tr>\n",
       "    <tr>\n",
       "      <th>Leg room service</th>\n",
       "      <td>74083</td>\n",
       "      <td>57.04</td>\n",
       "      <td>22467</td>\n",
       "      <td>17.30</td>\n",
       "      <td>74.34</td>\n",
       "      <td>32886</td>\n",
       "      <td>25.32</td>\n",
       "      <td>444</td>\n",
       "      <td>0.34</td>\n",
       "    </tr>\n",
       "    <tr>\n",
       "      <th>Ease of Online booking</th>\n",
       "      <td>74057</td>\n",
       "      <td>57.02</td>\n",
       "      <td>22418</td>\n",
       "      <td>17.26</td>\n",
       "      <td>74.28</td>\n",
       "      <td>33387</td>\n",
       "      <td>25.71</td>\n",
       "      <td>18</td>\n",
       "      <td>0.01</td>\n",
       "    </tr>\n",
       "    <tr>\n",
       "      <th>Online boarding</th>\n",
       "      <td>65154</td>\n",
       "      <td>50.16</td>\n",
       "      <td>30780</td>\n",
       "      <td>23.70</td>\n",
       "      <td>73.86</td>\n",
       "      <td>33932</td>\n",
       "      <td>26.13</td>\n",
       "      <td>14</td>\n",
       "      <td>0.01</td>\n",
       "    </tr>\n",
       "    <tr>\n",
       "      <th>Inflight entertainment</th>\n",
       "      <td>71710</td>\n",
       "      <td>55.21</td>\n",
       "      <td>24200</td>\n",
       "      <td>18.63</td>\n",
       "      <td>73.84</td>\n",
       "      <td>30992</td>\n",
       "      <td>23.86</td>\n",
       "      <td>2978</td>\n",
       "      <td>2.29</td>\n",
       "    </tr>\n",
       "    <tr>\n",
       "      <th>Inflight wifi service</th>\n",
       "      <td>60390</td>\n",
       "      <td>46.50</td>\n",
       "      <td>27602</td>\n",
       "      <td>21.25</td>\n",
       "      <td>67.75</td>\n",
       "      <td>41756</td>\n",
       "      <td>32.15</td>\n",
       "      <td>132</td>\n",
       "      <td>0.10</td>\n",
       "    </tr>\n",
       "    <tr>\n",
       "      <th>Gate location</th>\n",
       "      <td>49249</td>\n",
       "      <td>37.92</td>\n",
       "      <td>33546</td>\n",
       "      <td>25.83</td>\n",
       "      <td>63.75</td>\n",
       "      <td>47083</td>\n",
       "      <td>36.25</td>\n",
       "      <td>2</td>\n",
       "      <td>0.00</td>\n",
       "    </tr>\n",
       "    <tr>\n",
       "      <th>Departure/Arrival time convenient</th>\n",
       "      <td>56410</td>\n",
       "      <td>43.43</td>\n",
       "      <td>23184</td>\n",
       "      <td>17.85</td>\n",
       "      <td>61.28</td>\n",
       "      <td>43622</td>\n",
       "      <td>33.59</td>\n",
       "      <td>6664</td>\n",
       "      <td>5.13</td>\n",
       "    </tr>\n",
       "    <tr>\n",
       "      <th>Food and drink</th>\n",
       "      <td>47563</td>\n",
       "      <td>36.62</td>\n",
       "      <td>28150</td>\n",
       "      <td>21.67</td>\n",
       "      <td>58.29</td>\n",
       "      <td>48222</td>\n",
       "      <td>37.13</td>\n",
       "      <td>5945</td>\n",
       "      <td>4.58</td>\n",
       "    </tr>\n",
       "    <tr>\n",
       "      <th>Seat comfort</th>\n",
       "      <td>46225</td>\n",
       "      <td>35.59</td>\n",
       "      <td>29183</td>\n",
       "      <td>22.47</td>\n",
       "      <td>58.06</td>\n",
       "      <td>49675</td>\n",
       "      <td>38.25</td>\n",
       "      <td>4797</td>\n",
       "      <td>3.69</td>\n",
       "    </tr>\n",
       "  </tbody>\n",
       "</table>\n",
       "</div>"
      ],
      "text/plain": [
       "                                   good counts  good avgs  acceptable counts  \\\n",
       "Cleanliness                              84711      65.22              23984   \n",
       "Baggage handling                         83988      64.67              24485   \n",
       "On-board service                         72399      55.74              27037   \n",
       "Checkin service                          63486      48.88              35538   \n",
       "Online support                           77073      59.34              21609   \n",
       "Leg room service                         74083      57.04              22467   \n",
       "Ease of Online booking                   74057      57.02              22418   \n",
       "Online boarding                          65154      50.16              30780   \n",
       "Inflight entertainment                   71710      55.21              24200   \n",
       "Inflight wifi service                    60390      46.50              27602   \n",
       "Gate location                            49249      37.92              33546   \n",
       "Departure/Arrival time convenient        56410      43.43              23184   \n",
       "Food and drink                           47563      36.62              28150   \n",
       "Seat comfort                             46225      35.59              29183   \n",
       "\n",
       "                                   acceptable avgs    3-5  bad counts  \\\n",
       "Cleanliness                                  18.47  83.69       21180   \n",
       "Baggage handling                             18.85  83.52       21407   \n",
       "On-board service                             20.82  76.56       30439   \n",
       "Checkin service                              27.36  76.24       30855   \n",
       "Online support                               16.64  75.98       31197   \n",
       "Leg room service                             17.30  74.34       32886   \n",
       "Ease of Online booking                       17.26  74.28       33387   \n",
       "Online boarding                              23.70  73.86       33932   \n",
       "Inflight entertainment                       18.63  73.84       30992   \n",
       "Inflight wifi service                        21.25  67.75       41756   \n",
       "Gate location                                25.83  63.75       47083   \n",
       "Departure/Arrival time convenient            17.85  61.28       43622   \n",
       "Food and drink                               21.67  58.29       48222   \n",
       "Seat comfort                                 22.47  58.06       49675   \n",
       "\n",
       "                                   bad avgs  not applicable  \\\n",
       "Cleanliness                           16.31               5   \n",
       "Baggage handling                      16.48            7975   \n",
       "On-board service                      23.44               5   \n",
       "Checkin service                       23.76               1   \n",
       "Online support                        24.02               1   \n",
       "Leg room service                      25.32             444   \n",
       "Ease of Online booking                25.71              18   \n",
       "Online boarding                       26.13              14   \n",
       "Inflight entertainment                23.86            2978   \n",
       "Inflight wifi service                 32.15             132   \n",
       "Gate location                         36.25               2   \n",
       "Departure/Arrival time convenient     33.59            6664   \n",
       "Food and drink                        37.13            5945   \n",
       "Seat comfort                          38.25            4797   \n",
       "\n",
       "                                   not applicable avgs  \n",
       "Cleanliness                                       0.00  \n",
       "Baggage handling                                  6.14  \n",
       "On-board service                                  0.00  \n",
       "Checkin service                                   0.00  \n",
       "Online support                                    0.00  \n",
       "Leg room service                                  0.34  \n",
       "Ease of Online booking                            0.01  \n",
       "Online boarding                                   0.01  \n",
       "Inflight entertainment                            2.29  \n",
       "Inflight wifi service                             0.10  \n",
       "Gate location                                     0.00  \n",
       "Departure/Arrival time convenient                 5.13  \n",
       "Food and drink                                    4.58  \n",
       "Seat comfort                                      3.69  "
      ]
     },
     "execution_count": 7,
     "metadata": {},
     "output_type": "execute_result"
    }
   ],
   "source": [
    "# making a dictionary for the results\n",
    "mean_count_dict = {'good counts': goods_count,\n",
    "                   'good avgs': goods_avg,\n",
    "                   'acceptable counts': acceptables,\n",
    "                   'acceptable avgs': acceptables_avg,\n",
    "                    '3-5': _3_5,\n",
    "                   'bad counts': bads_count,\n",
    "                   'bad avgs': bads_avg,\n",
    "                   'not applicable': not_appicables,\n",
    "                   'not applicable avgs': not_app_avg}\n",
    "\n",
    "# making data frame of the results dictionary then sort it by the 3-5 column descending\n",
    "mean_count_df = pd.DataFrame(data=mean_count_dict, index=services_names)\n",
    "mean_count_df.sort_values(by='3-5', ascending=False)"
   ]
  },
  {
   "cell_type": "code",
   "execution_count": 8,
   "id": "7a4707fb",
   "metadata": {},
   "outputs": [
    {
     "data": {
      "text/html": [
       "<div>\n",
       "<style scoped>\n",
       "    .dataframe tbody tr th:only-of-type {\n",
       "        vertical-align: middle;\n",
       "    }\n",
       "\n",
       "    .dataframe tbody tr th {\n",
       "        vertical-align: top;\n",
       "    }\n",
       "\n",
       "    .dataframe thead th {\n",
       "        text-align: right;\n",
       "    }\n",
       "</style>\n",
       "<table border=\"1\" class=\"dataframe\">\n",
       "  <thead>\n",
       "    <tr style=\"text-align: right;\">\n",
       "      <th></th>\n",
       "      <th>good counts</th>\n",
       "      <th>good avgs</th>\n",
       "    </tr>\n",
       "  </thead>\n",
       "  <tbody>\n",
       "    <tr>\n",
       "      <th>Cleanliness</th>\n",
       "      <td>84711</td>\n",
       "      <td>65.22</td>\n",
       "    </tr>\n",
       "    <tr>\n",
       "      <th>Baggage handling</th>\n",
       "      <td>83988</td>\n",
       "      <td>64.67</td>\n",
       "    </tr>\n",
       "    <tr>\n",
       "      <th>Online support</th>\n",
       "      <td>77073</td>\n",
       "      <td>59.34</td>\n",
       "    </tr>\n",
       "  </tbody>\n",
       "</table>\n",
       "</div>"
      ],
      "text/plain": [
       "                  good counts  good avgs\n",
       "Cleanliness             84711      65.22\n",
       "Baggage handling        83988      64.67\n",
       "Online support          77073      59.34"
      ]
     },
     "execution_count": 8,
     "metadata": {},
     "output_type": "execute_result"
    }
   ],
   "source": [
    "# the best 3 services for satisfaction levels 4 - 5 avgerages\n",
    "best3_for_goods = mean_count_df[['good counts', \n",
    "                                 'good avgs']].sort_values(by='good avgs', ascending=False).head(3)\n",
    "\n",
    "\n",
    "# the best 3 services for satisfaction levels 3 - 5 avgerages\n",
    "best3_for_3_5 = mean_count_df[['good counts', \n",
    "                               'good avgs', \n",
    "                               'acceptable counts', \n",
    "                               'acceptable avgs', \n",
    "                               '3-5']].sort_values(by='3-5', ascending=False).head(3)\n",
    "\n",
    "# the bad 3 services for satisfaction levels 1 - 2 avgerages\n",
    "bad3 = mean_count_df[['bad counts', \n",
    "                      'bad avgs']].sort_values(by='bad avgs', ascending=False).head(3)\n",
    "\n",
    "\n",
    "best3_for_goods"
   ]
  },
  {
   "cell_type": "code",
   "execution_count": 9,
   "id": "f3ef50b1",
   "metadata": {},
   "outputs": [
    {
     "data": {
      "text/html": [
       "<div>\n",
       "<style scoped>\n",
       "    .dataframe tbody tr th:only-of-type {\n",
       "        vertical-align: middle;\n",
       "    }\n",
       "\n",
       "    .dataframe tbody tr th {\n",
       "        vertical-align: top;\n",
       "    }\n",
       "\n",
       "    .dataframe thead th {\n",
       "        text-align: right;\n",
       "    }\n",
       "</style>\n",
       "<table border=\"1\" class=\"dataframe\">\n",
       "  <thead>\n",
       "    <tr style=\"text-align: right;\">\n",
       "      <th></th>\n",
       "      <th>good counts</th>\n",
       "      <th>good avgs</th>\n",
       "      <th>acceptable counts</th>\n",
       "      <th>acceptable avgs</th>\n",
       "      <th>3-5</th>\n",
       "    </tr>\n",
       "  </thead>\n",
       "  <tbody>\n",
       "    <tr>\n",
       "      <th>Cleanliness</th>\n",
       "      <td>84711</td>\n",
       "      <td>65.22</td>\n",
       "      <td>23984</td>\n",
       "      <td>18.47</td>\n",
       "      <td>83.69</td>\n",
       "    </tr>\n",
       "    <tr>\n",
       "      <th>Baggage handling</th>\n",
       "      <td>83988</td>\n",
       "      <td>64.67</td>\n",
       "      <td>24485</td>\n",
       "      <td>18.85</td>\n",
       "      <td>83.52</td>\n",
       "    </tr>\n",
       "    <tr>\n",
       "      <th>On-board service</th>\n",
       "      <td>72399</td>\n",
       "      <td>55.74</td>\n",
       "      <td>27037</td>\n",
       "      <td>20.82</td>\n",
       "      <td>76.56</td>\n",
       "    </tr>\n",
       "  </tbody>\n",
       "</table>\n",
       "</div>"
      ],
      "text/plain": [
       "                  good counts  good avgs  acceptable counts  acceptable avgs  \\\n",
       "Cleanliness             84711      65.22              23984            18.47   \n",
       "Baggage handling        83988      64.67              24485            18.85   \n",
       "On-board service        72399      55.74              27037            20.82   \n",
       "\n",
       "                    3-5  \n",
       "Cleanliness       83.69  \n",
       "Baggage handling  83.52  \n",
       "On-board service  76.56  "
      ]
     },
     "execution_count": 9,
     "metadata": {},
     "output_type": "execute_result"
    }
   ],
   "source": [
    "best3_for_3_5"
   ]
  },
  {
   "cell_type": "code",
   "execution_count": 10,
   "id": "c685b64e",
   "metadata": {},
   "outputs": [
    {
     "data": {
      "text/html": [
       "<div>\n",
       "<style scoped>\n",
       "    .dataframe tbody tr th:only-of-type {\n",
       "        vertical-align: middle;\n",
       "    }\n",
       "\n",
       "    .dataframe tbody tr th {\n",
       "        vertical-align: top;\n",
       "    }\n",
       "\n",
       "    .dataframe thead th {\n",
       "        text-align: right;\n",
       "    }\n",
       "</style>\n",
       "<table border=\"1\" class=\"dataframe\">\n",
       "  <thead>\n",
       "    <tr style=\"text-align: right;\">\n",
       "      <th></th>\n",
       "      <th>bad counts</th>\n",
       "      <th>bad avgs</th>\n",
       "    </tr>\n",
       "  </thead>\n",
       "  <tbody>\n",
       "    <tr>\n",
       "      <th>Seat comfort</th>\n",
       "      <td>49675</td>\n",
       "      <td>38.25</td>\n",
       "    </tr>\n",
       "    <tr>\n",
       "      <th>Food and drink</th>\n",
       "      <td>48222</td>\n",
       "      <td>37.13</td>\n",
       "    </tr>\n",
       "    <tr>\n",
       "      <th>Gate location</th>\n",
       "      <td>47083</td>\n",
       "      <td>36.25</td>\n",
       "    </tr>\n",
       "  </tbody>\n",
       "</table>\n",
       "</div>"
      ],
      "text/plain": [
       "                bad counts  bad avgs\n",
       "Seat comfort         49675     38.25\n",
       "Food and drink       48222     37.13\n",
       "Gate location        47083     36.25"
      ]
     },
     "execution_count": 10,
     "metadata": {},
     "output_type": "execute_result"
    }
   ],
   "source": [
    "bad3"
   ]
  },
  {
   "cell_type": "code",
   "execution_count": 11,
   "id": "fd4e0788",
   "metadata": {},
   "outputs": [],
   "source": [
    "# if you want to save the results as excel file delete the '#' from the 3 lines below. Note: run all the cells above and don't delete the # from this line.\n",
    "# best3_for_goods.to_excel('best3_for_goods.xlsx')\n",
    "# best3_for_3_5.to_excel('best3_for_3_5.xlsx')\n",
    "# bad3.to_excel('bad3.xlsx')"
   ]
  },
  {
   "cell_type": "markdown",
   "id": "8c108681",
   "metadata": {},
   "source": [
    "## 2- Finding the diffirence between the characteristics"
   ]
  },
  {
   "cell_type": "code",
   "execution_count": 12,
   "id": "1015cb13",
   "metadata": {},
   "outputs": [],
   "source": [
    "# put the characteristics in a list as series\n",
    "li_charc = [characteristics_df[[characteristics_names[0], \n",
    "                                characteristics_names[i+1]]] for i in range(len(characteristics_names)-1)]"
   ]
  },
  {
   "cell_type": "code",
   "execution_count": 34,
   "id": "05913795",
   "metadata": {},
   "outputs": [],
   "source": [
    "# finding the quantity of each characteristic and each attribute\n",
    "charc_count = [pd.DataFrame((li_charc[i].value_counts().sort_index())) for i in [0,1,3,4]]"
   ]
  },
  {
   "cell_type": "code",
   "execution_count": 35,
   "id": "cf9699a5",
   "metadata": {},
   "outputs": [
    {
     "data": {
      "image/png": "[encoded data removed]",
      "text/plain": [
       "<Figure size 432x288 with 1 Axes>"
      ]
     },
     "metadata": {
      "needs_background": "light"
     },
     "output_type": "display_data"
    },
    {
     "data": {
      "image/png": "[encoded data removed]",
      "text/plain": [
       "<Figure size 432x288 with 1 Axes>"
      ]
     },
     "metadata": {
      "needs_background": "light"
     },
     "output_type": "display_data"
    },
    {
     "data": {
      "image/png": "[encoded data removed]",
      "text/plain": [
       "<Figure size 432x288 with 1 Axes>"
      ]
     },
     "metadata": {
      "needs_background": "light"
     },
     "output_type": "display_data"
    },
    {
     "data": {
      "image/png": "[encoded data removed]",
      "text/plain": [
       "<Figure size 432x288 with 1 Axes>"
      ]
     },
     "metadata": {
      "needs_background": "light"
     },
     "output_type": "display_data"
    }
   ],
   "source": [
    "# reorganizing the quantities of the characteristic: gender, customer type, travel type, class \n",
    "charc_df = [pd.DataFrame(np.array(charc_count[i]).reshape(2,2), \n",
    "                         columns=[charc_count[i].index[2][1], \n",
    "                                  charc_count[i].index[1][1]], \n",
    "                         index=[charc_count[i].index[2][0], \n",
    "                                charc_count[i].index[1][0],]) for i in [0,1,2]]\n",
    "\n",
    "charc_df.append(pd.DataFrame(np.array(charc_count[3]).reshape(2,3),\n",
    "                            columns=[charc_count[3].index[3][1],\n",
    "                                     charc_count[3].index[2][1],\n",
    "                                     charc_count[3].index[1][1],],\n",
    "                            index=[charc_count[3].index[3][0],\n",
    "                                  charc_count[3].index[2][0],]))\n",
    "\n",
    "# making plots for the characteristics above with the overall satisfaction\n",
    "titles = ['Gender', 'Customer Type', 'Travel Type', 'Class Type']\n",
    "plots = [charc_df[i].plot.bar(title=titles[i]) for i in range(len(charc_df))]\n",
    "plots;"
   ]
  },
  {
   "cell_type": "code",
   "execution_count": 15,
   "id": "2f0ea017",
   "metadata": {},
   "outputs": [
    {
     "data": {
      "image/png": "[encoded data removed]",
      "text/plain": [
       "<Figure size 432x288 with 1 Axes>"
      ]
     },
     "metadata": {
      "needs_background": "light"
     },
     "output_type": "display_data"
    }
   ],
   "source": [
    "# reorganize the age characteristic and plot it with the overall satisfication \n",
    "age_df = li_charc[2].replace(['satisfied', 'neutral or dissatisfied'], [1, 0])\n",
    "age_counts = age_df.groupby('Overall_Satisfaction').Age.value_counts()\n",
    "age_0 = age_counts.loc[0].sort_index()\n",
    "age_1 = age_counts.loc[1].sort_index()\n",
    "age_0.plot.area(stacked=False)\n",
    "age_1.plot.area(stacked=False, title= 'Age with Satisfaction').legend(['satisfied', 'dissatisfied']);"
   ]
  },
  {
   "cell_type": "code",
   "execution_count": 36,
   "id": "32cad7a9",
   "metadata": {},
   "outputs": [
    {
     "data": {
      "image/png": "[encoded data removed]",
      "text/plain": [
       "<Figure size 432x288 with 1 Axes>"
      ]
     },
     "metadata": {
      "needs_background": "light"
     },
     "output_type": "display_data"
    }
   ],
   "source": [
    "# reorganize the distance characteristic and plot it with the overall satisfication \n",
    "dist_df = li_charc[5].replace(['satisfied', 'neutral or dissatisfied'], [1, 0])\n",
    "dist_counts = dist_df.groupby('Overall_Satisfaction')['Flight Distance'].value_counts()\n",
    "dist_0 = dist_counts.loc[0].sort_index()\n",
    "dist_1 = dist_counts.loc[1].sort_index()\n",
    "dist_0.plot.area(stacked=False)\n",
    "dist_1.plot.area(stacked=False, title='Distance with Satisfaction').legend(['satisfied', 'dissatisfied']);"
   ]
  },
  {
   "cell_type": "markdown",
   "id": "75036287",
   "metadata": {},
   "source": [
    "## 3- The top 3 services that effecting customer satisfaction"
   ]
  },
  {
   "cell_type": "code",
   "execution_count": 17,
   "id": "0bd99f51",
   "metadata": {},
   "outputs": [],
   "source": [
    "# finding the correlation or the effect between the overall satisfaction and each service with spearman method\n",
    "services_satis = services_df.corrwith(satisfacation_df.replace(['satisfied', 'neutral or dissatisfied'], \n",
    "                                                               [1, 0]),method='spearman')"
   ]
  },
  {
   "cell_type": "code",
   "execution_count": 18,
   "id": "14719db5",
   "metadata": {},
   "outputs": [],
   "source": [
    "# making a data frame of the results and sort it in descending\n",
    "services_satis_corr = pd.DataFrame(((services_satis*100).round(2)).sort_values(ascending=False), \n",
    "                                   columns=['corr with satisfaction']).reset_index()"
   ]
  },
  {
   "cell_type": "code",
   "execution_count": 19,
   "id": "ab668678",
   "metadata": {},
   "outputs": [
    {
     "data": {
      "text/html": [
       "<div>\n",
       "<style scoped>\n",
       "    .dataframe tbody tr th:only-of-type {\n",
       "        vertical-align: middle;\n",
       "    }\n",
       "\n",
       "    .dataframe tbody tr th {\n",
       "        vertical-align: top;\n",
       "    }\n",
       "\n",
       "    .dataframe thead th {\n",
       "        text-align: right;\n",
       "    }\n",
       "</style>\n",
       "<table border=\"1\" class=\"dataframe\">\n",
       "  <thead>\n",
       "    <tr style=\"text-align: right;\">\n",
       "      <th></th>\n",
       "      <th>services</th>\n",
       "      <th>corr with satisfaction</th>\n",
       "    </tr>\n",
       "  </thead>\n",
       "  <tbody>\n",
       "    <tr>\n",
       "      <th>0</th>\n",
       "      <td>Inflight entertainment</td>\n",
       "      <td>57.77</td>\n",
       "    </tr>\n",
       "    <tr>\n",
       "      <th>1</th>\n",
       "      <td>Ease of Online booking</td>\n",
       "      <td>42.93</td>\n",
       "    </tr>\n",
       "    <tr>\n",
       "      <th>2</th>\n",
       "      <td>Online support</td>\n",
       "      <td>40.23</td>\n",
       "    </tr>\n",
       "    <tr>\n",
       "      <th>3</th>\n",
       "      <td>On-board service</td>\n",
       "      <td>35.71</td>\n",
       "    </tr>\n",
       "    <tr>\n",
       "      <th>4</th>\n",
       "      <td>Online boarding</td>\n",
       "      <td>33.32</td>\n",
       "    </tr>\n",
       "    <tr>\n",
       "      <th>5</th>\n",
       "      <td>Leg room service</td>\n",
       "      <td>30.82</td>\n",
       "    </tr>\n",
       "    <tr>\n",
       "      <th>6</th>\n",
       "      <td>Baggage handling</td>\n",
       "      <td>28.71</td>\n",
       "    </tr>\n",
       "    <tr>\n",
       "      <th>7</th>\n",
       "      <td>Cleanliness</td>\n",
       "      <td>28.39</td>\n",
       "    </tr>\n",
       "    <tr>\n",
       "      <th>8</th>\n",
       "      <td>Seat comfort</td>\n",
       "      <td>26.07</td>\n",
       "    </tr>\n",
       "    <tr>\n",
       "      <th>9</th>\n",
       "      <td>Checkin service</td>\n",
       "      <td>26.06</td>\n",
       "    </tr>\n",
       "    <tr>\n",
       "      <th>10</th>\n",
       "      <td>Inflight wifi service</td>\n",
       "      <td>22.24</td>\n",
       "    </tr>\n",
       "    <tr>\n",
       "      <th>11</th>\n",
       "      <td>Food and drink</td>\n",
       "      <td>13.23</td>\n",
       "    </tr>\n",
       "    <tr>\n",
       "      <th>12</th>\n",
       "      <td>Gate location</td>\n",
       "      <td>-1.23</td>\n",
       "    </tr>\n",
       "    <tr>\n",
       "      <th>13</th>\n",
       "      <td>Departure/Arrival time convenient</td>\n",
       "      <td>-1.46</td>\n",
       "    </tr>\n",
       "  </tbody>\n",
       "</table>\n",
       "</div>"
      ],
      "text/plain": [
       "                             services  corr with satisfaction\n",
       "0              Inflight entertainment                   57.77\n",
       "1              Ease of Online booking                   42.93\n",
       "2                      Online support                   40.23\n",
       "3                    On-board service                   35.71\n",
       "4                     Online boarding                   33.32\n",
       "5                    Leg room service                   30.82\n",
       "6                    Baggage handling                   28.71\n",
       "7                         Cleanliness                   28.39\n",
       "8                        Seat comfort                   26.07\n",
       "9                     Checkin service                   26.06\n",
       "10              Inflight wifi service                   22.24\n",
       "11                     Food and drink                   13.23\n",
       "12                      Gate location                   -1.23\n",
       "13  Departure/Arrival time convenient                   -1.46"
      ]
     },
     "execution_count": 19,
     "metadata": {},
     "output_type": "execute_result"
    }
   ],
   "source": [
    "# the results\n",
    "services_satis_corr = services_satis_corr.rename(columns={'index': 'services'})\n",
    "services_satis_corr"
   ]
  },
  {
   "cell_type": "code",
   "execution_count": 20,
   "id": "e15dfb29",
   "metadata": {},
   "outputs": [
    {
     "data": {
      "text/html": [
       "<div>\n",
       "<style scoped>\n",
       "    .dataframe tbody tr th:only-of-type {\n",
       "        vertical-align: middle;\n",
       "    }\n",
       "\n",
       "    .dataframe tbody tr th {\n",
       "        vertical-align: top;\n",
       "    }\n",
       "\n",
       "    .dataframe thead th {\n",
       "        text-align: right;\n",
       "    }\n",
       "</style>\n",
       "<table border=\"1\" class=\"dataframe\">\n",
       "  <thead>\n",
       "    <tr style=\"text-align: right;\">\n",
       "      <th></th>\n",
       "      <th>services</th>\n",
       "      <th>corr with satisfaction</th>\n",
       "    </tr>\n",
       "  </thead>\n",
       "  <tbody>\n",
       "    <tr>\n",
       "      <th>0</th>\n",
       "      <td>Inflight entertainment</td>\n",
       "      <td>57.77</td>\n",
       "    </tr>\n",
       "    <tr>\n",
       "      <th>1</th>\n",
       "      <td>Ease of Online booking</td>\n",
       "      <td>42.93</td>\n",
       "    </tr>\n",
       "    <tr>\n",
       "      <th>2</th>\n",
       "      <td>Online support</td>\n",
       "      <td>40.23</td>\n",
       "    </tr>\n",
       "  </tbody>\n",
       "</table>\n",
       "</div>"
      ],
      "text/plain": [
       "                 services  corr with satisfaction\n",
       "0  Inflight entertainment                   57.77\n",
       "1  Ease of Online booking                   42.93\n",
       "2          Online support                   40.23"
      ]
     },
     "execution_count": 20,
     "metadata": {},
     "output_type": "execute_result"
    }
   ],
   "source": [
    "# the top 3 services that effect on the customer satisfaction \n",
    "top3 = services_satis_corr.head(3)\n",
    "top3"
   ]
  },
  {
   "cell_type": "code",
   "execution_count": null,
   "id": "9a87ab75",
   "metadata": {},
   "outputs": [],
   "source": []
  }
 ],
 "metadata": {
  "kernelspec": {
   "display_name": "Python 3 (ipykernel)",
   "language": "python",
   "name": "python3"
  },
  "language_info": {
   "codemirror_mode": {
    "name": "ipython",
    "version": 3
   },
   "file_extension": ".py",
   "mimetype": "text/x-python",
   "name": "python",
   "nbconvert_exporter": "python",
   "pygments_lexer": "ipython3",
   "version": "3.9.6"
  }
 },
 "nbformat": 4,
 "nbformat_minor": 5
}
